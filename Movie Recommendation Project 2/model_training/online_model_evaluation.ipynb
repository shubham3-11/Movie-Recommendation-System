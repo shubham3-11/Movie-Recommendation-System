{
  "cells": [
    {
      "cell_type": "code",
      "execution_count": 1,
      "metadata": {
        "colab": {
          "base_uri": "https://localhost:8080/"
        },
        "id": "O7F85864S5QR",
        "outputId": "db4919c1-816b-40b2-b2ff-13935f20a9e9"
      },
      "outputs": [
        {
          "name": "stdout",
          "output_type": "stream",
          "text": [
            "Requirement already satisfied: pymongo in /Users/shilpysingh/anaconda3/envs/idlf24/lib/python3.8/site-packages (4.10.1)\n",
            "Requirement already satisfied: apscheduler in /Users/shilpysingh/anaconda3/envs/idlf24/lib/python3.8/site-packages (3.11.0)\n",
            "Requirement already satisfied: dnspython<3.0.0,>=1.16.0 in /Users/shilpysingh/anaconda3/envs/idlf24/lib/python3.8/site-packages (from pymongo) (2.6.1)\n",
            "Requirement already satisfied: tzlocal>=3.0 in /Users/shilpysingh/anaconda3/envs/idlf24/lib/python3.8/site-packages (from apscheduler) (5.2)\n",
            "Requirement already satisfied: backports.zoneinfo in /Users/shilpysingh/anaconda3/envs/idlf24/lib/python3.8/site-packages (from apscheduler) (0.2.1)\n"
          ]
        }
      ],
      "source": [
        "!pip install pymongo apscheduler\n"
      ]
    },
    {
      "cell_type": "code",
      "execution_count": 2,
      "metadata": {
        "id": "8DHapS3xVA1a"
      },
      "outputs": [],
      "source": [
        "from pymongo import MongoClient\n",
        "from datetime import datetime\n",
        "import time\n",
        "\n",
        "CONNECTION_STRING = \" \"\n",
        "client = MongoClient(CONNECTION_STRING)\n",
        "\n",
        "\n"
      ]
    },
    {
      "cell_type": "code",
      "execution_count": 3,
      "metadata": {
        "id": "lqrdIF8zKe4B"
      },
      "outputs": [],
      "source": [
        "log_db = client[\"log_database\"]\n",
        "movie_db = client[\"movie_database\"]\n",
        "user_db = client[\"user_database\"]\n",
        "\n",
        "recommendation_collection = log_db[\"recommendation_log\"]\n",
        "watch_time_collection = movie_db[\"user_watch_data\"]\n"
      ]
    },
    {
      "cell_type": "code",
      "execution_count": 4,
      "metadata": {
        "colab": {
          "base_uri": "https://localhost:8080/"
        },
        "id": "TLMDed9SKjyO",
        "outputId": "20cd0736-5543-47eb-f1f7-1390840b0f13"
      },
      "outputs": [
        {
          "name": "stdout",
          "output_type": "stream",
          "text": [
            "['recommendation_log']\n"
          ]
        }
      ],
      "source": [
        "print(log_db.list_collection_names())"
      ]
    },
    {
      "cell_type": "code",
      "execution_count": 5,
      "metadata": {
        "id": "j4-XLtWeMtdm"
      },
      "outputs": [],
      "source": [
        "def extract_watch_duration(minute_mpg):\n",
        "    \"\"\"\n",
        "    Extracts numeric watch duration in seconds from 'minute_mpg' field.\n",
        "    \"\"\"\n",
        "    try:\n",
        "        minutes = int(minute_mpg.split(\".\")[0])  # Extract minutes (before \".mpg\")\n",
        "        return minutes * 60  # Convert to seconds\n",
        "    except:\n",
        "        return 0  # Default to 0 if parsing fails\n"
      ]
    },
    {
      "cell_type": "code",
      "execution_count": 6,
      "metadata": {
        "colab": {
          "base_uri": "https://localhost:8080/"
        },
        "id": "dn6sHJ63VGVL",
        "outputId": "a9c7d4c7-5085-416f-d217-22dbefe0a5ef"
      },
      "outputs": [
        {
          "name": "stdout",
          "output_type": "stream",
          "text": [
            " Average Watch Time AFTER Recommendation: 991.55 seconds\n"
          ]
        },
        {
          "data": {
            "text/plain": [
              "991.5526472337895"
            ]
          },
          "execution_count": 6,
          "metadata": {},
          "output_type": "execute_result"
        }
      ],
      "source": [
        "\n",
        "def compute_avg_watch_time():\n",
        "    \"\"\"\n",
        "    Computes average watch time for movies watched AFTER the recommendation.\n",
        "    \n",
        "    \"\"\"\n",
        "    total_watch_time = 0\n",
        "    total_users = 0\n",
        "\n",
        "    # Process only a limited number of recommendations (e.g., 1000)\n",
        "    recommendation_logs = recommendation_collection.find().limit(1000)\n",
        "\n",
        "    for rec in recommendation_logs:\n",
        "        user_id = rec.get(\"user_id\")\n",
        "        recommended_movies = rec.get(\"recommendation_results\", [])\n",
        "\n",
        "        # Convert timestamp correctly\n",
        "        rec_timestamp = rec.get(\"time\")\n",
        "        if isinstance(rec_timestamp, str):  # Convert if it's a string\n",
        "            try:\n",
        "                rec_timestamp = datetime.fromisoformat(rec_timestamp.replace(\"Z\", \"+00:00\"))\n",
        "            except ValueError:\n",
        "                continue  # Skip records with invalid timestamps\n",
        "\n",
        "        # Query watch logs for this user AFTER recommendation\n",
        "        watch_logs = list(watch_time_collection.find(\n",
        "            {\n",
        "                \"user_id\": user_id,\n",
        "                \"movie_id\": {\"$in\": recommended_movies},\n",
        "                \"time\": {\"$gte\": rec_timestamp}  # Watch time after recommendation\n",
        "            },\n",
        "            {\"minute_mpg\": 1}  # Fetch only required field\n",
        "        ))\n",
        "\n",
        "        for watch in watch_logs:\n",
        "            watch_duration = extract_watch_duration(watch[\"minute_mpg\"])\n",
        "            total_watch_time += watch_duration\n",
        "            total_users += 1\n",
        "\n",
        "    # Compute final average\n",
        "    avg_watch_time = total_watch_time / total_users if total_users > 0 else 0\n",
        "    print(f\" Average Watch Time AFTER Recommendation: {avg_watch_time:.2f} seconds\")\n",
        "    return avg_watch_time\n",
        "\n",
        "# Run the function\n",
        "compute_avg_watch_time()\n"
      ]
    },
    {
      "cell_type": "code",
      "execution_count": 7,
      "metadata": {
        "colab": {
          "base_uri": "https://localhost:8080/"
        },
        "id": "QzeXL6PJVJ2-",
        "outputId": "fbfcc90d-86bc-428b-b375-0e9f928f984a"
      },
      "outputs": [
        {
          "name": "stdout",
          "output_type": "stream",
          "text": [
            "Watch Time Conversion Rate AFTER Recommendation: 3.14%\n"
          ]
        },
        {
          "data": {
            "text/plain": [
              "0.0313994593470576"
            ]
          },
          "execution_count": 7,
          "metadata": {},
          "output_type": "execute_result"
        }
      ],
      "source": [
        "def compute_watch_time_conversion_rate():\n",
        "    \"\"\"\n",
        "    Computes the percentage of users who watched a recommended movie AFTER receiving the recommendation.\n",
        "    \"\"\"\n",
        "    total_recommendations = recommendation_collection.count_documents({})\n",
        "    users_who_watched = set()\n",
        "\n",
        "    for rec in recommendation_collection.find().limit(1000):  # Add limit to avoid infinite loops\n",
        "        user_id = rec.get(\"user_id\")\n",
        "        recommended_movies = rec.get(\"recommendation_results\", [])\n",
        "        rec_timestamp = rec.get(\"time\")\n",
        "\n",
        "        # Handle time format conversion\n",
        "        if isinstance(rec_timestamp, str):\n",
        "            try:\n",
        "                rec_timestamp = datetime.fromisoformat(rec_timestamp.replace(\"Z\", \"+00:00\"))\n",
        "            except Exception as e:\n",
        "                print(f\"Skipping user {user_id} due to invalid time format: {e}\")\n",
        "                continue\n",
        "\n",
        "        # Query for watch logs after the recommendation\n",
        "        watch_logs_cursor = watch_time_collection.find({\n",
        "            \"user_id\": user_id,\n",
        "            \"movie_id\": {\"$in\": recommended_movies},\n",
        "            \"time\": {\"$gte\": rec_timestamp}\n",
        "        })\n",
        "\n",
        "        # Convert to list to count results\n",
        "        watch_logs = list(watch_logs_cursor)\n",
        "\n",
        "        if len(watch_logs) > 0:\n",
        "            users_who_watched.add(user_id)\n",
        "\n",
        "    conversion_rate = len(users_who_watched) / total_recommendations if total_recommendations > 0 else 0\n",
        "    print(f\"Watch Time Conversion Rate AFTER Recommendation: {conversion_rate:.2%}\")\n",
        "    return conversion_rate\n",
        "\n",
        "# Run it\n",
        "compute_watch_time_conversion_rate()\n",
        "\n"
      ]
    },
    {
      "cell_type": "code",
      "execution_count": 8,
      "metadata": {},
      "outputs": [],
      "source": [
        "telemetry_collection = log_db[\"online_evaluation_telemetry\"]"
      ]
    },
    {
      "cell_type": "code",
      "execution_count": 11,
      "metadata": {},
      "outputs": [],
      "source": [
        "\n",
        "def log_online_telemetry():\n",
        "    \"\"\"\n",
        "    Computes evaluation metrics and stores them as telemetry data in MongoDB.\n",
        "    \"\"\"\n",
        "    # ---- Metric 1: Average Watch Time ----\n",
        "    avg_watch_time = compute_avg_watch_time()\n",
        "\n",
        "    # ---- Metric 2: Watch Time Conversion Rate ----\n",
        "    conversion_rate = compute_watch_time_conversion_rate()\n",
        "\n",
        "    # ---- Prepare telemetry record ----\n",
        "    telemetry_record = {\n",
        "        \"timestamp\": datetime.utcnow(),\n",
        "        \"average_watch_time_sec\": avg_watch_time,\n",
        "        \"conversion_rate_percent\": conversion_rate * 100,\n",
        "        \"note\": \"Online telemetry snapshot\"\n",
        "    }\n",
        "\n",
        "    # ---- Store in MongoDB telemetry collection ----\n",
        "    telemetry_collection = log_db[\"online_evaluation_telemetry\"]\n",
        "    telemetry_collection.insert_one(telemetry_record)\n",
        "\n",
        "    print(\"✅ Telemetry logged:\", telemetry_record)\n",
        "    return telemetry_record\n"
      ]
    },
    {
      "cell_type": "code",
      "execution_count": 12,
      "metadata": {},
      "outputs": [
        {
          "name": "stdout",
          "output_type": "stream",
          "text": [
            " Average Watch Time AFTER Recommendation: 1013.50 seconds\n",
            "Watch Time Conversion Rate AFTER Recommendation: 3.09%\n",
            "✅ Telemetry logged: {'timestamp': datetime.datetime(2025, 3, 21, 21, 7, 26, 357414), 'average_watch_time_sec': 1013.5015527950311, 'conversion_rate_percent': 3.087934560327198, 'note': 'Online telemetry snapshot', '_id': ObjectId('67ddd50e18ddf7f3c799d9ff')}\n"
          ]
        },
        {
          "data": {
            "text/plain": [
              "{'timestamp': datetime.datetime(2025, 3, 21, 21, 7, 26, 357414),\n",
              " 'average_watch_time_sec': 1013.5015527950311,\n",
              " 'conversion_rate_percent': 3.087934560327198,\n",
              " 'note': 'Online telemetry snapshot',\n",
              " '_id': ObjectId('67ddd50e18ddf7f3c799d9ff')}"
            ]
          },
          "execution_count": 12,
          "metadata": {},
          "output_type": "execute_result"
        }
      ],
      "source": [
        "log_online_telemetry()"
      ]
    },
    {
      "cell_type": "code",
      "execution_count": 13,
      "metadata": {
        "id": "k8-lgePBVO_a"
      },
      "outputs": [
        {
          "name": "stderr",
          "output_type": "stream",
          "text": [
            "Run time of job \"log_online_telemetry (trigger: interval[1:00:00], next run at: 2025-03-21 18:09:53 EDT)\" was missed by 0:12:31.549123\n"
          ]
        },
        {
          "name": "stdout",
          "output_type": "stream",
          "text": [
            " Average Watch Time AFTER Recommendation: 1313.01 seconds\n",
            "Watch Time Conversion Rate AFTER Recommendation: 2.66%\n",
            "✅ Telemetry logged: {'timestamp': datetime.datetime(2025, 3, 22, 2, 27, 37, 440779), 'average_watch_time_sec': 1313.0142535633909, 'conversion_rate_percent': 2.6574136763710223, 'note': 'Online telemetry snapshot', '_id': ObjectId('67de201918ddf7f3c799da00')}\n",
            " Average Watch Time AFTER Recommendation: 1318.44 seconds\n",
            "Watch Time Conversion Rate AFTER Recommendation: 2.67%\n",
            "✅ Telemetry logged: {'timestamp': datetime.datetime(2025, 3, 22, 3, 27, 59, 968069), 'average_watch_time_sec': 1318.4366576819407, 'conversion_rate_percent': 2.6743398781313474, 'note': 'Online telemetry snapshot', '_id': ObjectId('67de2e3f18ddf7f3c799da01')}\n",
            " Average Watch Time AFTER Recommendation: 1324.00 seconds\n",
            "Watch Time Conversion Rate AFTER Recommendation: 2.63%\n",
            "✅ Telemetry logged: {'timestamp': datetime.datetime(2025, 3, 22, 4, 28, 20, 969748), 'average_watch_time_sec': 1323.9994021820355, 'conversion_rate_percent': 2.627640113088309, 'note': 'Online telemetry snapshot', '_id': ObjectId('67de3c6418ddf7f3c799da02')}\n"
          ]
        },
        {
          "name": "stderr",
          "output_type": "stream",
          "text": [
            "Run time of job \"log_online_telemetry (trigger: interval[1:00:00], next run at: 2025-03-22 02:09:53 EDT)\" was missed by 0:11:40.273742\n",
            "Run time of job \"log_online_telemetry (trigger: interval[1:00:00], next run at: 2025-03-22 03:09:53 EDT)\" was missed by 0:16:02.446435\n"
          ]
        },
        {
          "name": "stdout",
          "output_type": "stream",
          "text": [
            " Average Watch Time AFTER Recommendation: 1341.05 seconds\n",
            "Watch Time Conversion Rate AFTER Recommendation: 2.40%\n",
            "✅ Telemetry logged: {'timestamp': datetime.datetime(2025, 3, 22, 7, 30, 7, 732963), 'average_watch_time_sec': 1341.0548209775666, 'conversion_rate_percent': 2.4012158054711246, 'note': 'Online telemetry snapshot', '_id': ObjectId('67de66ff18ddf7f3c799da03')}\n",
            " Average Watch Time AFTER Recommendation: 1347.25 seconds\n",
            "Watch Time Conversion Rate AFTER Recommendation: 2.34%\n",
            "✅ Telemetry logged: {'timestamp': datetime.datetime(2025, 3, 22, 8, 31, 1, 400851), 'average_watch_time_sec': 1347.2468495181615, 'conversion_rate_percent': 2.3355506282335554, 'note': 'Online telemetry snapshot', '_id': ObjectId('67de754518ddf7f3c799da04')}\n",
            " Average Watch Time AFTER Recommendation: 1354.51 seconds\n",
            "Watch Time Conversion Rate AFTER Recommendation: 2.27%\n",
            "✅ Telemetry logged: {'timestamp': datetime.datetime(2025, 3, 22, 9, 31, 41, 817844), 'average_watch_time_sec': 1354.513981358189, 'conversion_rate_percent': 2.2688110281447442, 'note': 'Online telemetry snapshot', '_id': ObjectId('67de837d18ddf7f3c799da05')}\n",
            " Average Watch Time AFTER Recommendation: 1362.15 seconds\n",
            "Watch Time Conversion Rate AFTER Recommendation: 2.13%\n",
            "✅ Telemetry logged: {'timestamp': datetime.datetime(2025, 3, 22, 11, 57, 49, 732317), 'average_watch_time_sec': 1362.1513944223107, 'conversion_rate_percent': 2.129954165543273, 'note': 'Online telemetry snapshot', '_id': ObjectId('67dea5bd18ddf7f3c799da06')}\n"
          ]
        },
        {
          "name": "stderr",
          "output_type": "stream",
          "text": [
            "Run time of job \"log_online_telemetry (trigger: interval[1:00:00], next run at: 2025-03-22 09:09:53 EDT)\" was missed by 0:20:23.111686\n"
          ]
        },
        {
          "name": "stdout",
          "output_type": "stream",
          "text": [
            " Average Watch Time AFTER Recommendation: 1377.89 seconds\n",
            "Watch Time Conversion Rate AFTER Recommendation: 2.05%\n",
            "✅ Telemetry logged: {'timestamp': datetime.datetime(2025, 3, 22, 13, 30, 48, 272301), 'average_watch_time_sec': 1377.8854625550662, 'conversion_rate_percent': 2.0463670509001424, 'note': 'Online telemetry snapshot', '_id': ObjectId('67debb8818ddf7f3c799da07')}\n",
            " Average Watch Time AFTER Recommendation: 1384.17 seconds\n",
            "Watch Time Conversion Rate AFTER Recommendation: 2.00%\n",
            "✅ Telemetry logged: {'timestamp': datetime.datetime(2025, 3, 22, 14, 31, 10, 805876), 'average_watch_time_sec': 1384.1682544335335, 'conversion_rate_percent': 1.9977241117713997, 'note': 'Online telemetry snapshot', '_id': ObjectId('67dec9ae18ddf7f3c799da08')}\n",
            " Average Watch Time AFTER Recommendation: 1388.78 seconds\n",
            "Watch Time Conversion Rate AFTER Recommendation: 1.95%\n",
            "✅ Telemetry logged: {'timestamp': datetime.datetime(2025, 3, 22, 15, 30, 59, 139132), 'average_watch_time_sec': 1388.7783467446964, 'conversion_rate_percent': 1.950617283950617, 'note': 'Online telemetry snapshot', '_id': ObjectId('67ded7b318ddf7f3c799da09')}\n"
          ]
        },
        {
          "name": "stderr",
          "output_type": "stream",
          "text": [
            "Run time of job \"log_online_telemetry (trigger: interval[1:00:00], next run at: 2025-03-22 14:09:53 EDT)\" was missed by 0:59:27.236497\n"
          ]
        },
        {
          "name": "stdout",
          "output_type": "stream",
          "text": [
            " Average Watch Time AFTER Recommendation: 1408.78 seconds\n",
            "Watch Time Conversion Rate AFTER Recommendation: 1.82%\n",
            "✅ Telemetry logged: {'timestamp': datetime.datetime(2025, 3, 22, 18, 33, 27, 999383), 'average_watch_time_sec': 1408.7821911828896, 'conversion_rate_percent': 1.821745647411507, 'note': 'Online telemetry snapshot', '_id': ObjectId('67df027818ddf7f3c799da0a')}\n",
            " Average Watch Time AFTER Recommendation: 1414.88 seconds\n",
            "Watch Time Conversion Rate AFTER Recommendation: 1.78%\n",
            "✅ Telemetry logged: {'timestamp': datetime.datetime(2025, 3, 22, 19, 34, 5, 632093), 'average_watch_time_sec': 1414.8845315904139, 'conversion_rate_percent': 1.782490974729242, 'note': 'Online telemetry snapshot', '_id': ObjectId('67df10ad18ddf7f3c799da0b')}\n",
            " Average Watch Time AFTER Recommendation: 1420.75 seconds\n",
            "Watch Time Conversion Rate AFTER Recommendation: 1.74%\n",
            "✅ Telemetry logged: {'timestamp': datetime.datetime(2025, 3, 22, 20, 34, 21, 879923), 'average_watch_time_sec': 1420.7453596287703, 'conversion_rate_percent': 1.7412387039894204, 'note': 'Online telemetry snapshot', '_id': ObjectId('67df1ecd18ddf7f3c799da0c')}\n"
          ]
        },
        {
          "name": "stderr",
          "output_type": "stream",
          "text": [
            "Run time of job \"log_online_telemetry (trigger: interval[1:00:00], next run at: 2025-03-22 18:09:53 EDT)\" was missed by 0:15:22.014554\n"
          ]
        }
      ],
      "source": [
        "from apscheduler.schedulers.background import BackgroundScheduler\n",
        "\n",
        "scheduler = BackgroundScheduler()\n",
        "scheduler.add_job(log_online_telemetry, 'interval', hours=1)\n",
        "scheduler.start()\n"
      ]
    }
  ],
  "metadata": {
    "colab": {
      "provenance": []
    },
    "kernelspec": {
      "display_name": "Python 3",
      "name": "python3"
    },
    "language_info": {
      "codemirror_mode": {
        "name": "ipython",
        "version": 3
      },
      "file_extension": ".py",
      "mimetype": "text/x-python",
      "name": "python",
      "nbconvert_exporter": "python",
      "pygments_lexer": "ipython3",
      "version": "3.8.19"
    }
  },
  "nbformat": 4,
  "nbformat_minor": 0
}
