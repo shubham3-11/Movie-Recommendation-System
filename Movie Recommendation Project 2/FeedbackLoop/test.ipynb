{
 "cells": [
  {
   "cell_type": "code",
   "execution_count": 3,
   "id": "68730aad",
   "metadata": {},
   "outputs": [],
   "source": [
    "from pymongo import MongoClient"
   ]
  },
  {
   "cell_type": "code",
   "execution_count": 2,
   "id": "d3b2c657",
   "metadata": {},
   "outputs": [],
   "source": [
    "import pandas as pd"
   ]
  },
  {
   "cell_type": "code",
   "execution_count": 12,
   "id": "af635c9f",
   "metadata": {},
   "outputs": [
    {
     "name": "stdout",
     "output_type": "stream",
     "text": [
      "Genre Entropy - Latest Week (Week 4): 3.3984\n",
      "Genre Entropy - 4 Weeks Ago (Week 0): 3.5318\n",
      "Entropy Change: -0.1334\n"
     ]
    }
   ],
   "source": [
    "from pymongo import MongoClient\n",
    "import pandas as pd\n",
    "from datetime import datetime, timedelta\n",
    "from collections import Counter\n",
    "import ast\n",
    "import numpy as np\n",
    "import os\n",
    "from dotenv import load_dotenv\n",
    "load_dotenv()\n",
    "MONGO_URI = os.getenv('MONGO_URI')\n",
    "# Connect\n",
    "client = MongoClient(MONGO_URI)\n",
    "\n",
    "# Databases\n",
    "log_db = client['log_database']\n",
    "rec_collection = log_db['recommendation_log']\n",
    "\n",
    "movie_db = client['movie_database']\n",
    "movie_info_collection = movie_db['movie_info']\n",
    "\n",
    "# Current time\n",
    "now = datetime.now()\n",
    "\n",
    "# Week 0 range (latest week)\n",
    "start_week0 = now - timedelta(days=7)\n",
    "end_week0 = now\n",
    "\n",
    "# Week 10 range (70-77 days ago)\n",
    "start_week10 = now - timedelta(days=35)\n",
    "end_week10 = now - timedelta(days=28)\n",
    "\n",
    "# Build movie_id -> genres mapping\n",
    "movie_genres = {}\n",
    "for movie in movie_info_collection.find():\n",
    "    movie_id = movie.get('movie_id')\n",
    "    genres_raw = movie.get('genres')\n",
    "    \n",
    "    if isinstance(genres_raw, str):\n",
    "        try:\n",
    "            genres_list = ast.literal_eval(genres_raw)\n",
    "            genre_names = [g['name'] for g in genres_list]\n",
    "            movie_genres[movie_id] = genre_names\n",
    "        except Exception:\n",
    "            continue\n",
    "\n",
    "# Helper: Calculate entropy\n",
    "def calculate_entropy(start_time, end_time):\n",
    "    cursor = rec_collection.find({\n",
    "        'time': {'$gte': start_time, '$lt': end_time}\n",
    "    })\n",
    "\n",
    "    all_recommendations = []\n",
    "    for doc in cursor:\n",
    "        results = doc.get('recommendation_results', [])\n",
    "        cleaned_results = [item.strip() for item in results if isinstance(item, str)]\n",
    "        all_recommendations.extend(cleaned_results)\n",
    "\n",
    "    counter = Counter(all_recommendations)\n",
    "    top_20_movies = [movie for movie, _ in counter.most_common(20)]\n",
    "\n",
    "    genre_counter = Counter()\n",
    "    for movie in top_20_movies:\n",
    "        genres = movie_genres.get(movie, [])\n",
    "        genre_counter.update(genres)\n",
    "\n",
    "    # Calculate entropy\n",
    "    total = sum(genre_counter.values())\n",
    "    probs = np.array([count / total for count in genre_counter.values()])\n",
    "    entropy = -np.sum(probs * np.log2(probs + 1e-9))  # Add tiny value to avoid log(0)\n",
    "    return entropy\n",
    "\n",
    "# Calculate entropy for both weeks\n",
    "entropy_week0 = calculate_entropy(start_week0, end_week0)\n",
    "entropy_week10 = calculate_entropy(start_week10, end_week10)\n",
    "\n",
    "# Print result\n",
    "print(f\"Genre Entropy - Latest Week (Week 4): {entropy_week0:.4f}\")\n",
    "print(f\"Genre Entropy - 4 Weeks Ago (Week 0): {entropy_week10:.4f}\")\n",
    "print(f\"Entropy Change: {entropy_week0 - entropy_week10:.4f}\")"
   ]
  }
 ],
 "metadata": {
  "kernelspec": {
   "display_name": "mllab",
   "language": "python",
   "name": "python3"
  },
  "language_info": {
   "codemirror_mode": {
    "name": "ipython",
    "version": 3
   },
   "file_extension": ".py",
   "mimetype": "text/x-python",
   "name": "python",
   "nbconvert_exporter": "python",
   "pygments_lexer": "ipython3",
   "version": "3.9.21"
  }
 },
 "nbformat": 4,
 "nbformat_minor": 5
}
